{
  "nbformat": 4,
  "nbformat_minor": 0,
  "metadata": {
    "colab": {
      "name": "Fibonacci.ipynb",
      "provenance": [],
      "authorship_tag": "ABX9TyO0Fr0ktcAxkEhc+z7keNR/",
      "include_colab_link": true
    },
    "kernelspec": {
      "name": "python3",
      "display_name": "Python 3"
    },
    "language_info": {
      "name": "python"
    }
  },
  "cells": [
    {
      "cell_type": "markdown",
      "metadata": {
        "id": "view-in-github",
        "colab_type": "text"
      },
      "source": [
        "<a href=\"https://colab.research.google.com/github/cngendo/Python/blob/main/Fibonacci.ipynb\" target=\"_parent\"><img src=\"https://colab.research.google.com/assets/colab-badge.svg\" alt=\"Open In Colab\"/></a>"
      ]
    },
    {
      "cell_type": "markdown",
      "source": [
        "# Create a python function that when you input a number the function you \n",
        "#have created checks whether the number belongs to the Fibonacci sequence or not."
      ],
      "metadata": {
        "id": "Fj8OI75dxD77"
      }
    },
    {
      "cell_type": "code",
      "execution_count": 9,
      "metadata": {
        "colab": {
          "base_uri": "https://localhost:8080/"
        },
        "id": "XXX2_6QUw0Hf",
        "outputId": "037aee96-aca2-4b55-8ac9-283187987075"
      },
      "outputs": [
        {
          "output_type": "stream",
          "name": "stdout",
          "text": [
            "Enter a number4\n",
            "False\n"
          ]
        }
      ],
      "source": [
        "import math\n",
        " \n",
        "# A function that returns true if x is perfect square\n",
        "def isPerfectSquare(x):\n",
        "    s = int(math.sqrt(x))\n",
        "    return s*s == x\n",
        " \n",
        "# Returns True if n is a Fibonacci Number, else False\n",
        "def isFibonacci(n):\n",
        "    x= 5*n*n\n",
        "    isFib = isPerfectSquare( x + 4) or isPerfectSquare(x - 4)\n",
        "    return isFib if \"True\" else \"false\"\n",
        "\n",
        "num = input(\"Enter a number\")\n",
        "    \n",
        "print(isFibonacci(int(num)))"
      ]
    }
  ]
}